{
 "cells": [
  {
   "cell_type": "markdown",
   "id": "a0e689bc",
   "metadata": {},
   "source": [
    "# Tensors 1\n",
    "#### Tensors are a specialized data structure that are very similar to arrays and matrices. In PyTorch, tensors are used to encode the input and output of a model, aswell as the model's parameters.\n",
    "#### They are similar to NumPy ndarrays. except that tensors can run on GPU and other hardware accelerators. also share same underlying memory with NumPy arrays, eliminating data copying(bridges with Numpy).\n",
    "### Tensors are optimized for automatic differentiation(autograd)\n"
   ]
  },
  {
   "cell_type": "code",
   "execution_count": 1,
   "id": "19d4efb0",
   "metadata": {},
   "outputs": [
    {
     "name": "stderr",
     "output_type": "stream",
     "text": [
      "C:\\Users\\Fatihi\\.conda\\envs\\Pytorch_1\\lib\\site-packages\\tqdm\\auto.py:22: TqdmWarning: IProgress not found. Please update jupyter and ipywidgets. See https://ipywidgets.readthedocs.io/en/stable/user_install.html\n",
      "  from .autonotebook import tqdm as notebook_tqdm\n"
     ]
    }
   ],
   "source": [
    "import torch\n",
    "import numpy as np"
   ]
  },
  {
   "cell_type": "code",
   "execution_count": 7,
   "id": "f72b329f",
   "metadata": {},
   "outputs": [
    {
     "name": "stdout",
     "output_type": "stream",
     "text": [
      "Ones Tensor: \n",
      " tensor([[1, 1],\n",
      "        [1, 1]]) \n",
      "\n",
      "Random Tensor: \n",
      " tensor([[0.8098, 0.3596],\n",
      "        [0.6337, 0.9740]]) \n",
      "\n",
      "Random Tensors: \n",
      " tensor([[0.3871, 0.7619, 0.9531],\n",
      "        [0.7892, 0.8326, 0.4166]]) \n",
      "Ones Tensor: \n",
      " tensor([[1., 1., 1.],\n",
      "        [1., 1., 1.]]) \n",
      "Zeros Tensor: \n",
      " tensor([[0., 0., 0.],\n",
      "        [0., 0., 0.]]) \n",
      "\n"
     ]
    }
   ],
   "source": [
    "#Initializing a Tensor\n",
    "\n",
    "#Initializing directly from data\n",
    "data = [[1,2],[3,4]]\n",
    "x_data = torch.tensor(data)\n",
    "\n",
    "#From a Numpy array\n",
    "np_array = np.array(data)\n",
    "x_np = torch.from_numpy(np_array)\n",
    "\n",
    "#From another tensor\n",
    "x_ones = torch.ones_like(x_data)#retain the properties of x_data\n",
    "print(f'Ones Tensor: \\n {x_ones} \\n')\n",
    "x_rand = torch.rand_like(x_data, dtype = torch.float) #overrides datatype of x_data\n",
    "print(f'Random Tensor: \\n {x_rand} \\n')\n",
    "\n",
    "#With random or constant values:\n",
    "shape = (2,3,)\n",
    "rand_tensor = torch.rand(shape)\n",
    "ones_tensor = torch.ones(shape)\n",
    "zeros_tensor = torch.zeros(shape)\n",
    "print(f'Random Tensors: \\n {rand_tensor} \\nOnes Tensor: \\n {ones_tensor} \\nZeros Tensor: \\n {zeros_tensor} \\n')\n"
   ]
  },
  {
   "cell_type": "markdown",
   "id": "3dbddfe2",
   "metadata": {},
   "source": [
    "# Attributes of a Tensor\n",
    "### Tensor attributes describe their shape, datatype, and the device on which they are stored."
   ]
  },
  {
   "cell_type": "code",
   "execution_count": 8,
   "id": "51fefa3a",
   "metadata": {},
   "outputs": [
    {
     "name": "stdout",
     "output_type": "stream",
     "text": [
      "Shape of tensor: torch.Size([3, 4])\n",
      "Datatype of tensor: torch.float32\n",
      "Device tensor is stored on: cpu\n"
     ]
    }
   ],
   "source": [
    "tensor = torch.rand(3,4)\n",
    "print(f'Shape of tensor: {tensor.shape}')\n",
    "print(f'Datatype of tensor: {tensor.dtype}')\n",
    "print(f'Device tensor is stored on: {tensor.device}')"
   ]
  },
  {
   "cell_type": "markdown",
   "id": "f6dc71c9",
   "metadata": {},
   "source": [
    "# Operations on Tensors\n",
    "### There are over 100 tensor operations including arithmetics, linear algebra, matrix manipulation(transposing, indexing, slicing), sampling... [check link](https://pytorch.org/docs/stable/torch.html) for more about tensor operations.\n",
    "### tensor are created on cpu, explicitly move tensors to the GPU using .to method(large tensors copying can be expensive in terms of time/memory)"
   ]
  },
  {
   "cell_type": "code",
   "execution_count": 11,
   "id": "cc1f44c7",
   "metadata": {},
   "outputs": [],
   "source": [
    "#moving our tensor to GPU\n",
    "if torch.cuda.is_available():\n",
    "    tensor = tensor.to('cuda')"
   ]
  },
  {
   "cell_type": "code",
   "execution_count": 14,
   "id": "40d29e14",
   "metadata": {},
   "outputs": [
    {
     "name": "stdout",
     "output_type": "stream",
     "text": [
      "First Row: tensor([1., 1., 1., 1.]) \n",
      " First Col: tensor([1., 1., 1., 1.]) \n",
      " Last Col: tensor([1., 1., 1., 1.])\n",
      "tensor([[1., 0., 1., 1.],\n",
      "        [1., 0., 1., 1.],\n",
      "        [1., 0., 1., 1.],\n",
      "        [1., 0., 1., 1.]])\n",
      "tensor([[1., 0., 1., 1., 1., 0., 1., 1., 1., 0., 1., 1.],\n",
      "        [1., 0., 1., 1., 1., 0., 1., 1., 1., 0., 1., 1.],\n",
      "        [1., 0., 1., 1., 1., 0., 1., 1., 1., 0., 1., 1.],\n",
      "        [1., 0., 1., 1., 1., 0., 1., 1., 1., 0., 1., 1.]])\n"
     ]
    }
   ],
   "source": [
    "#Standard numpy-like indexing and slicing\n",
    "tensor = torch.ones(4,4)\n",
    "print(f'First Row: {tensor[0]} \\n First Col: {tensor[:,0]} \\n Last Col: {tensor[...,-1]}')\n",
    "tensor[:,1] =0\n",
    "print(tensor)\n",
    "#Joining tensors\n",
    "t1 = torch.cat([tensor, tensor, tensor], dim=1)\n",
    "print(t1)\n"
   ]
  },
  {
   "cell_type": "code",
   "execution_count": 24,
   "id": "b593570c",
   "metadata": {},
   "outputs": [
    {
     "data": {
      "text/plain": [
       "tensor([[3., 3., 3., 3.],\n",
       "        [3., 3., 3., 3.],\n",
       "        [3., 3., 3., 3.],\n",
       "        [3., 3., 3., 3.]])"
      ]
     },
     "execution_count": 24,
     "metadata": {},
     "output_type": "execute_result"
    }
   ],
   "source": [
    "# @Arithmetic Operations\n",
    "#This compute the matrix multiplication between two tensors. y1, y2, y3 will have the same values\n",
    "y1 = tensor @ tensor.T\n",
    "y2 = tensor.matmul(tensor.T)\n",
    "\n",
    "y3 = torch.rand_like(tensor)\n",
    "torch.matmul(tensor, tensor.T, out=y3)\n",
    "\n"
   ]
  },
  {
   "cell_type": "code",
   "execution_count": 25,
   "id": "bc6abde2",
   "metadata": {},
   "outputs": [
    {
     "data": {
      "text/plain": [
       "tensor([[1., 0., 1., 1.],\n",
       "        [1., 0., 1., 1.],\n",
       "        [1., 0., 1., 1.],\n",
       "        [1., 0., 1., 1.]])"
      ]
     },
     "execution_count": 25,
     "metadata": {},
     "output_type": "execute_result"
    }
   ],
   "source": [
    "#This compute the element-wise product. z1, z2, z3 will have the same value\n",
    "z1 = tensor * tensor\n",
    "z2 = tensor.mul(tensor)\n",
    "\n",
    "z3 = torch.rand_like(tensor)\n",
    "torch.mul(tensor, tensor, out=z3)"
   ]
  },
  {
   "cell_type": "code",
   "execution_count": 26,
   "id": "9dd90b1a",
   "metadata": {},
   "outputs": [
    {
     "name": "stdout",
     "output_type": "stream",
     "text": [
      "12.0 <class 'float'> tensor(12.) <class 'torch.Tensor'>\n"
     ]
    }
   ],
   "source": [
    "# @Single-element tensors if you have one-element tensor, for ex by aggregating all values of a tensor into one value\n",
    "# you can convert it to python numerical value using item()\n",
    "agg = tensor.sum()\n",
    "agg_item = agg.item()\n",
    "print(agg_item, type(agg_item), agg, type(agg))"
   ]
  },
  {
   "cell_type": "code",
   "execution_count": 27,
   "id": "5a575f21",
   "metadata": {},
   "outputs": [
    {
     "name": "stdout",
     "output_type": "stream",
     "text": [
      "tensor([[1., 0., 1., 1.],\n",
      "        [1., 0., 1., 1.],\n",
      "        [1., 0., 1., 1.],\n",
      "        [1., 0., 1., 1.]]) \n",
      "\n",
      "tensor([[6., 5., 6., 6.],\n",
      "        [6., 5., 6., 6.],\n",
      "        [6., 5., 6., 6.],\n",
      "        [6., 5., 6., 6.]])\n"
     ]
    }
   ],
   "source": [
    "# @In-place operations that store the result into the operand and called inplace.\n",
    "# They are denoted by a _ suffix. for ex: x.copy_(y), x.t_(), will change x\n",
    "print(tensor, '\\n')\n",
    "tensor.add_(5)\n",
    "print(tensor)"
   ]
  },
  {
   "cell_type": "code",
   "execution_count": 29,
   "id": "4fd6ed46",
   "metadata": {},
   "outputs": [
    {
     "name": "stdout",
     "output_type": "stream",
     "text": [
      "Before\n",
      "t: tensor([1., 1., 1., 1., 1.])\n",
      "n:[1. 1. 1. 1. 1.]\n",
      "After\n",
      "t: tensor([2., 2., 2., 2., 2.])\n",
      "n:[2. 2. 2. 2. 2.]\n"
     ]
    }
   ],
   "source": [
    "# Bridge with numpy given both share same underlying memory locations. and changing one will change the other\n",
    "t = torch.ones(5)\n",
    "print(f'Before\\nt: {t}')\n",
    "n = t.numpy()\n",
    "print(f\"n:{n}\")\n",
    "\n",
    "t.add_(1)\n",
    "print(f'After\\nt: {t}')\n",
    "print(f\"n:{n}\")"
   ]
  },
  {
   "cell_type": "code",
   "execution_count": 30,
   "id": "df6ea81d",
   "metadata": {},
   "outputs": [
    {
     "name": "stdout",
     "output_type": "stream",
     "text": [
      "t:tensor([2., 2., 2., 2.], dtype=torch.float64)\n",
      "n:[2. 2. 2. 2.]\n"
     ]
    }
   ],
   "source": [
    "#Numpy array to Tensor\n",
    "n = np.ones(4)\n",
    "t = torch.from_numpy(n)\n",
    "\n",
    "np.add(n,1, out=n)\n",
    "\n",
    "print(f\"t:{t}\")\n",
    "print(f\"n:{n}\")"
   ]
  },
  {
   "cell_type": "code",
   "execution_count": null,
   "id": "eff75537",
   "metadata": {},
   "outputs": [],
   "source": []
  }
 ],
 "metadata": {
  "kernelspec": {
   "display_name": "Python 3 (ipykernel)",
   "language": "python",
   "name": "python3"
  },
  "language_info": {
   "codemirror_mode": {
    "name": "ipython",
    "version": 3
   },
   "file_extension": ".py",
   "mimetype": "text/x-python",
   "name": "python",
   "nbconvert_exporter": "python",
   "pygments_lexer": "ipython3",
   "version": "3.10.8"
  }
 },
 "nbformat": 4,
 "nbformat_minor": 5
}
